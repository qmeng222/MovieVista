{
 "cells": [
  {
   "cell_type": "code",
   "execution_count": 1,
   "id": "7a26be7e",
   "metadata": {},
   "outputs": [],
   "source": [
    "import openai\n",
    "from dotenv import dotenv_values\n",
    "config = dotenv_values(\".env\")\n",
    "openai.api_key = config[\"OPENAI_API_KEY\"]"
   ]
  },
  {
   "cell_type": "code",
   "execution_count": 2,
   "id": "212aeeb8",
   "metadata": {},
   "outputs": [],
   "source": [
    "import pandas as pd\n",
    "import numpy as np\n",
    "from tenacity import retry, wait_random_exponential, stop_after_attempt\n",
    "import pickle\n",
    "import tiktoken"
   ]
  },
  {
   "cell_type": "code",
   "execution_count": 3,
   "id": "699bb3ed",
   "metadata": {},
   "outputs": [],
   "source": [
    "dataset_path = \"./movie_plots.csv\"\n",
    "dataframe = pd.read_csv(dataset_path)"
   ]
  },
  {
   "cell_type": "code",
   "execution_count": 4,
   "id": "36401906",
   "metadata": {},
   "outputs": [],
   "source": [
    "# Narrow our data set to 5000 recent American movies (to save money):\n",
    "movies = dataframe[dataframe[\"Origin/Ethnicity\"] == \"American\"].sort_values(\"Release Year\", ascending=False).head(5000)"
   ]
  },
  {
   "cell_type": "code",
   "execution_count": 5,
   "id": "d2c20b5e",
   "metadata": {},
   "outputs": [],
   "source": [
    "# Extract the movie plots into a list:\n",
    "movie_plots = movies[\"Plot\"].values  # [\"plot1\", \"plot2\", ...] "
   ]
  },
  {
   "cell_type": "code",
   "execution_count": 6,
   "id": "1ca63491",
   "metadata": {},
   "outputs": [],
   "source": [
    "@retry(wait=wait_random_exponential(min=1, max=20), stop=stop_after_attempt(6))\n",
    "def get_embedding(text, model=\"text-embedding-ada-002\"):\n",
    "\n",
    "    # replace newlines, which can negatively affect performance:\n",
    "    text = text.replace(\"\\n\", \" \")\n",
    "\n",
    "    return openai.Embedding.create(input=text, model=model)[\"data\"][0][\"embedding\"]"
   ]
  },
  {
   "cell_type": "code",
   "execution_count": 7,
   "id": "7338d753",
   "metadata": {},
   "outputs": [],
   "source": [
    "# Use the tiktoken library to encode a text using the \"text-embedding-ada-002\" model\n",
    "enc = tiktoken.encoding_for_model(\"text-embedding-ada-002\")"
   ]
  },
  {
   "cell_type": "code",
   "execution_count": 8,
   "id": "f4328459",
   "metadata": {},
   "outputs": [],
   "source": [
    "# calculate total tokens to estimate cost\n",
    "total_tokens = sum([len(enc.encode(plot)) for plot in movie_plots]) # sum([697, 757, 361, ...])"
   ]
  },
  {
   "cell_type": "code",
   "execution_count": 9,
   "id": "a71ca9e1",
   "metadata": {},
   "outputs": [
    {
     "name": "stdout",
     "output_type": "stream",
     "text": [
      "Estimated cost is $1.45\n"
     ]
    }
   ],
   "source": [
    "total_tokens\n",
    "cost = (.0004 / 1000) * total_tokens\n",
    "print(f\"Estimated cost is ${cost:.2f}\")"
   ]
  },
  {
   "cell_type": "code",
   "execution_count": 10,
   "id": "ec7d8e9b",
   "metadata": {},
   "outputs": [],
   "source": [
    "# establish a cache of embeddings to avoid recomputing\n",
    "# cache is a dict of tuples (text, model) -> embedding, saved as a pickle file\n",
    "\n",
    "# set path to embedding cache\n",
    "embedding_cache_path = \"movie_embeddings.pkl\"\n",
    "\n",
    "# load the cache if it exists, and save a copy to disk\n",
    "try:\n",
    "    embedding_cache = pd.read_pickle(embedding_cache_path)\n",
    "except FileNotFoundError:\n",
    "    embedding_cache = {}\n",
    "with open(embedding_cache_path, \"wb\") as embedding_cache_file:\n",
    "    pickle.dump(embedding_cache, embedding_cache_file)\n",
    "\n",
    "# define a function to retrieve embeddings from the cache if present, or otherwise request via the API\n",
    "def embedding_from_string(\n",
    "    string,\n",
    "    model=\"text-embedding-ada-002\",\n",
    "    embedding_cache=embedding_cache\n",
    "):\n",
    "    \"\"\"Return embedding of given string, using a cache to avoid recomputing.\"\"\"\n",
    "    if (string, model) not in embedding_cache.keys():\n",
    "        embedding_cache[(string, model)] = get_embedding(string, model)\n",
    "        print(f\"GOT EMBEDDING FROM OPENAI FOR '{string[:20]}'\")\n",
    "        with open(embedding_cache_path, \"wb\") as embedding_cache_file:\n",
    "            pickle.dump(embedding_cache, embedding_cache_file)\n",
    "    return embedding_cache[(string, model)]"
   ]
  },
  {
   "cell_type": "code",
   "execution_count": 11,
   "id": "d7c010c2",
   "metadata": {},
   "outputs": [],
   "source": [
    "plot_embeddings = [embedding_from_string(plot, model=\"text-embedding-ada-002\") for plot in movie_plots]"
   ]
  },
  {
   "cell_type": "code",
   "execution_count": 12,
   "id": "b04a76cf",
   "metadata": {},
   "outputs": [
    {
     "data": {
      "text/plain": [
       "5000"
      ]
     },
     "execution_count": 12,
     "metadata": {},
     "output_type": "execute_result"
    }
   ],
   "source": [
    "len(plot_embeddings) # 5000 "
   ]
  },
  {
   "cell_type": "code",
   "execution_count": 13,
   "id": "b07213be",
   "metadata": {},
   "outputs": [
    {
     "data": {
      "text/plain": [
       "1536"
      ]
     },
     "execution_count": 13,
     "metadata": {},
     "output_type": "execute_result"
    }
   ],
   "source": [
    "len(plot_embeddings[0]) # 1536"
   ]
  },
  {
   "cell_type": "code",
   "execution_count": 18,
   "id": "deac5eeb",
   "metadata": {},
   "outputs": [
    {
     "ename": "TypeError",
     "evalue": "unsupported type: <class 'str'>",
     "output_type": "error",
     "traceback": [
      "\u001b[0;31m---------------------------------------------------------------------------\u001b[0m",
      "\u001b[0;31mTypeError\u001b[0m                                 Traceback (most recent call last)",
      "Input \u001b[0;32mIn [18]\u001b[0m, in \u001b[0;36m<cell line: 1>\u001b[0;34m()\u001b[0m\n\u001b[0;32m----> 1\u001b[0m \u001b[43mmovies\u001b[49m\u001b[43m[\u001b[49m\u001b[38;5;124;43m\"\u001b[39;49m\u001b[38;5;124;43mTitle\u001b[39;49m\u001b[38;5;124;43m\"\u001b[39;49m\u001b[43m]\u001b[49m\u001b[38;5;241;43m.\u001b[39;49m\u001b[43mto_dict\u001b[49m\u001b[43m(\u001b[49m\u001b[38;5;124;43m\"\u001b[39;49m\u001b[38;5;124;43mrecords\u001b[39;49m\u001b[38;5;124;43m\"\u001b[39;49m\u001b[43m)\u001b[49m\n",
      "File \u001b[0;32m~/.pyenv/versions/3.10.2/lib/python3.10/site-packages/pandas/core/series.py:1894\u001b[0m, in \u001b[0;36mSeries.to_dict\u001b[0;34m(self, into)\u001b[0m\n\u001b[1;32m   1865\u001b[0m \u001b[38;5;250m\u001b[39m\u001b[38;5;124;03m\"\"\"\u001b[39;00m\n\u001b[1;32m   1866\u001b[0m \u001b[38;5;124;03mConvert Series to {label -> value} dict or dict-like object.\u001b[39;00m\n\u001b[1;32m   1867\u001b[0m \n\u001b[0;32m   (...)\u001b[0m\n\u001b[1;32m   1891\u001b[0m \u001b[38;5;124;03mdefaultdict(<class 'list'>, {0: 1, 1: 2, 2: 3, 3: 4})\u001b[39;00m\n\u001b[1;32m   1892\u001b[0m \u001b[38;5;124;03m\"\"\"\u001b[39;00m\n\u001b[1;32m   1893\u001b[0m \u001b[38;5;66;03m# GH16122\u001b[39;00m\n\u001b[0;32m-> 1894\u001b[0m into_c \u001b[38;5;241m=\u001b[39m \u001b[43mcom\u001b[49m\u001b[38;5;241;43m.\u001b[39;49m\u001b[43mstandardize_mapping\u001b[49m\u001b[43m(\u001b[49m\u001b[43minto\u001b[49m\u001b[43m)\u001b[49m\n\u001b[1;32m   1896\u001b[0m \u001b[38;5;28;01mif\u001b[39;00m is_object_dtype(\u001b[38;5;28mself\u001b[39m) \u001b[38;5;129;01mor\u001b[39;00m is_extension_array_dtype(\u001b[38;5;28mself\u001b[39m):\n\u001b[1;32m   1897\u001b[0m     \u001b[38;5;28;01mreturn\u001b[39;00m into_c((k, maybe_box_native(v)) \u001b[38;5;28;01mfor\u001b[39;00m k, v \u001b[38;5;129;01min\u001b[39;00m \u001b[38;5;28mself\u001b[39m\u001b[38;5;241m.\u001b[39mitems())\n",
      "File \u001b[0;32m~/.pyenv/versions/3.10.2/lib/python3.10/site-packages/pandas/core/common.py:410\u001b[0m, in \u001b[0;36mstandardize_mapping\u001b[0;34m(into)\u001b[0m\n\u001b[1;32m    408\u001b[0m     into \u001b[38;5;241m=\u001b[39m \u001b[38;5;28mtype\u001b[39m(into)\n\u001b[1;32m    409\u001b[0m \u001b[38;5;28;01mif\u001b[39;00m \u001b[38;5;129;01mnot\u001b[39;00m \u001b[38;5;28missubclass\u001b[39m(into, abc\u001b[38;5;241m.\u001b[39mMapping):\n\u001b[0;32m--> 410\u001b[0m     \u001b[38;5;28;01mraise\u001b[39;00m \u001b[38;5;167;01mTypeError\u001b[39;00m(\u001b[38;5;124mf\u001b[39m\u001b[38;5;124m\"\u001b[39m\u001b[38;5;124munsupported type: \u001b[39m\u001b[38;5;132;01m{\u001b[39;00minto\u001b[38;5;132;01m}\u001b[39;00m\u001b[38;5;124m\"\u001b[39m)\n\u001b[1;32m    411\u001b[0m \u001b[38;5;28;01mif\u001b[39;00m into \u001b[38;5;241m==\u001b[39m defaultdict:\n\u001b[1;32m    412\u001b[0m     \u001b[38;5;28;01mraise\u001b[39;00m \u001b[38;5;167;01mTypeError\u001b[39;00m(\u001b[38;5;124m\"\u001b[39m\u001b[38;5;124mto_dict() only accepts initialized defaultdicts\u001b[39m\u001b[38;5;124m\"\u001b[39m)\n",
      "\u001b[0;31mTypeError\u001b[0m: unsupported type: <class 'str'>"
     ]
    }
   ],
   "source": [
    "movies[[\"Title\", \"Genre\"]].to_dict(\"records\")"
   ]
  },
  {
   "cell_type": "code",
   "execution_count": 14,
   "id": "f0d0e0e8",
   "metadata": {},
   "outputs": [],
   "source": [
    "from nomic import atlas"
   ]
  },
  {
   "cell_type": "code",
   "execution_count": 15,
   "id": "45e22886",
   "metadata": {},
   "outputs": [
    {
     "name": "stderr",
     "output_type": "stream",
     "text": [
      "\u001b[32m2023-06-01 18:08:41.341\u001b[0m | \u001b[1mINFO    \u001b[0m | \u001b[36mnomic.project\u001b[0m:\u001b[36m_create_project\u001b[0m:\u001b[36m965\u001b[0m - \u001b[1mCreating project `null-armchair` in organization `qmeng222`\u001b[0m\n",
      "\u001b[32m2023-06-01 18:08:43.293\u001b[0m | \u001b[1mINFO    \u001b[0m | \u001b[36mnomic.atlas\u001b[0m:\u001b[36mmap_embeddings\u001b[0m:\u001b[36m100\u001b[0m - \u001b[1mUploading embeddings to Atlas.\u001b[0m\n",
      "4it [00:15,  3.88s/it]                             \n",
      "\u001b[32m2023-06-01 18:08:58.963\u001b[0m | \u001b[1mINFO    \u001b[0m | \u001b[36mnomic.project\u001b[0m:\u001b[36m_add_data\u001b[0m:\u001b[36m1577\u001b[0m - \u001b[1mUpload succeeded.\u001b[0m\n",
      "\u001b[32m2023-06-01 18:08:58.967\u001b[0m | \u001b[1mINFO    \u001b[0m | \u001b[36mnomic.atlas\u001b[0m:\u001b[36mmap_embeddings\u001b[0m:\u001b[36m119\u001b[0m - \u001b[1mEmbedding upload succeeded.\u001b[0m\n",
      "\u001b[32m2023-06-01 18:09:01.158\u001b[0m | \u001b[1mINFO    \u001b[0m | \u001b[36mnomic.project\u001b[0m:\u001b[36mcreate_index\u001b[0m:\u001b[36m1282\u001b[0m - \u001b[1mCreated map `null-armchair` in project `null-armchair`: https://atlas.nomic.ai/map/23ed8f0e-1207-47b5-af40-57a1a9dd2c85/0a8ab829-0f08-46e6-bfe6-685d6f1a89a8\u001b[0m\n",
      "\u001b[32m2023-06-01 18:09:01.160\u001b[0m | \u001b[1mINFO    \u001b[0m | \u001b[36mnomic.atlas\u001b[0m:\u001b[36mmap_embeddings\u001b[0m:\u001b[36m132\u001b[0m - \u001b[1mnull-armchair: https://atlas.nomic.ai/map/23ed8f0e-1207-47b5-af40-57a1a9dd2c85/0a8ab829-0f08-46e6-bfe6-685d6f1a89a8\u001b[0m\n"
     ]
    }
   ],
   "source": [
    "project = atlas.map_embeddings(\n",
    "    embeddings=np.array(plot_embeddings)\n",
    ")"
   ]
  },
  {
   "cell_type": "code",
   "execution_count": 16,
   "id": "36fe105e",
   "metadata": {},
   "outputs": [
    {
     "data": {
      "text/html": [
       "<div>\n",
       "<style scoped>\n",
       "    .dataframe tbody tr th:only-of-type {\n",
       "        vertical-align: middle;\n",
       "    }\n",
       "\n",
       "    .dataframe tbody tr th {\n",
       "        vertical-align: top;\n",
       "    }\n",
       "\n",
       "    .dataframe thead th {\n",
       "        text-align: right;\n",
       "    }\n",
       "</style>\n",
       "<table border=\"1\" class=\"dataframe\">\n",
       "  <thead>\n",
       "    <tr style=\"text-align: right;\">\n",
       "      <th></th>\n",
       "      <th>Release Year</th>\n",
       "      <th>Title</th>\n",
       "      <th>Origin/Ethnicity</th>\n",
       "      <th>Director</th>\n",
       "      <th>Cast</th>\n",
       "      <th>Genre</th>\n",
       "      <th>Wiki Page</th>\n",
       "      <th>Plot</th>\n",
       "    </tr>\n",
       "  </thead>\n",
       "  <tbody>\n",
       "    <tr>\n",
       "      <th>17376</th>\n",
       "      <td>2017</td>\n",
       "      <td>Phantom Thread</td>\n",
       "      <td>American</td>\n",
       "      <td>Paul Thomas Anderson</td>\n",
       "      <td>Paul Thomas Anderson (director/screenplay); Da...</td>\n",
       "      <td>drama</td>\n",
       "      <td>https://en.wikipedia.org/wiki/Phantom_Thread</td>\n",
       "      <td>In 1954 London, renowned fashion designer Reyn...</td>\n",
       "    </tr>\n",
       "    <tr>\n",
       "      <th>17243</th>\n",
       "      <td>2017</td>\n",
       "      <td>Everything, Everything</td>\n",
       "      <td>American</td>\n",
       "      <td>Stella Meghie</td>\n",
       "      <td>Stella Meghie (director); J. Mills Goodloe (sc...</td>\n",
       "      <td>romance, drama</td>\n",
       "      <td>https://en.wikipedia.org/wiki/Everything,_Ever...</td>\n",
       "      <td>Eighteen-year-old Maddy suffers from SCID, an ...</td>\n",
       "    </tr>\n",
       "    <tr>\n",
       "      <th>17241</th>\n",
       "      <td>2017</td>\n",
       "      <td>Alien: Covenant</td>\n",
       "      <td>American</td>\n",
       "      <td>Ridley Scott</td>\n",
       "      <td>Ridley Scott (director); Michael Green, Jack P...</td>\n",
       "      <td>sci-fi, horror</td>\n",
       "      <td>https://en.wikipedia.org/wiki/Alien:_Covenant</td>\n",
       "      <td>In a prologue, business magnate Peter Weyland ...</td>\n",
       "    </tr>\n",
       "    <tr>\n",
       "      <th>17240</th>\n",
       "      <td>2017</td>\n",
       "      <td>Paris Can Wait</td>\n",
       "      <td>American</td>\n",
       "      <td>Eleanor Coppola</td>\n",
       "      <td>Eleanor Coppola (director/screenplay); Diane L...</td>\n",
       "      <td>comedy, romance</td>\n",
       "      <td>https://en.wikipedia.org/wiki/Paris_Can_Wait</td>\n",
       "      <td>Anne (Diane Lane) is in Cannes with her husban...</td>\n",
       "    </tr>\n",
       "    <tr>\n",
       "      <th>17239</th>\n",
       "      <td>2017</td>\n",
       "      <td>The Wall</td>\n",
       "      <td>American</td>\n",
       "      <td>Doug Liman</td>\n",
       "      <td>Doug Liman (director); Dwain Worrell (screenpl...</td>\n",
       "      <td>drama, thriller</td>\n",
       "      <td>https://en.wikipedia.org/wiki/The_Wall_(2017_f...</td>\n",
       "      <td>During the Iraq War, U.S. Army Staff Sergeant ...</td>\n",
       "    </tr>\n",
       "    <tr>\n",
       "      <th>...</th>\n",
       "      <td>...</td>\n",
       "      <td>...</td>\n",
       "      <td>...</td>\n",
       "      <td>...</td>\n",
       "      <td>...</td>\n",
       "      <td>...</td>\n",
       "      <td>...</td>\n",
       "      <td>...</td>\n",
       "    </tr>\n",
       "    <tr>\n",
       "      <th>12478</th>\n",
       "      <td>1995</td>\n",
       "      <td>Jury Duty</td>\n",
       "      <td>American</td>\n",
       "      <td>John Fortenberry</td>\n",
       "      <td>Pauly Shore, Tia Carrere, Abe Vigoda</td>\n",
       "      <td>comedy</td>\n",
       "      <td>https://en.wikipedia.org/wiki/Jury_Duty_(film)</td>\n",
       "      <td>Tommy Collins is an unemployed erotic dancer l...</td>\n",
       "    </tr>\n",
       "    <tr>\n",
       "      <th>12506</th>\n",
       "      <td>1995</td>\n",
       "      <td>Mortal Kombat</td>\n",
       "      <td>American</td>\n",
       "      <td>Paul W. S. Anderson</td>\n",
       "      <td>Robin Shou, Linden Ashby, Bridgette Wilson, Ch...</td>\n",
       "      <td>fantasy</td>\n",
       "      <td>https://en.wikipedia.org/wiki/Mortal_Kombat_(f...</td>\n",
       "      <td>Mortal Kombat is a fighting tournament between...</td>\n",
       "    </tr>\n",
       "    <tr>\n",
       "      <th>12480</th>\n",
       "      <td>1995</td>\n",
       "      <td>A Kid in King Arthur's Court</td>\n",
       "      <td>American</td>\n",
       "      <td>Michael Gottlieb</td>\n",
       "      <td>Thomas Ian Nicholas, Joss Ackland</td>\n",
       "      <td>comedy</td>\n",
       "      <td>https://en.wikipedia.org/wiki/A_Kid_in_King_Ar...</td>\n",
       "      <td>Calvin Fuller is a nerdy young boy living in t...</td>\n",
       "    </tr>\n",
       "    <tr>\n",
       "      <th>12508</th>\n",
       "      <td>1995</td>\n",
       "      <td>Mr. Holland's Opus</td>\n",
       "      <td>American</td>\n",
       "      <td>Stephen Herek</td>\n",
       "      <td>Richard Dreyfuss, Glenne Headly, Jay Thomas, O...</td>\n",
       "      <td>drama</td>\n",
       "      <td>https://en.wikipedia.org/wiki/Mr._Holland%27s_...</td>\n",
       "      <td>In Portland, Oregon in 1965, Glenn Holland is ...</td>\n",
       "    </tr>\n",
       "    <tr>\n",
       "      <th>12522</th>\n",
       "      <td>1995</td>\n",
       "      <td>Operation Dumbo Drop</td>\n",
       "      <td>American</td>\n",
       "      <td>Simon Wincer</td>\n",
       "      <td>Ray Liotta, Danny Glover, Denis Leary</td>\n",
       "      <td>family</td>\n",
       "      <td>https://en.wikipedia.org/wiki/Operation_Dumbo_...</td>\n",
       "      <td>During the Vietnam War in 1968, Captain Sam Ca...</td>\n",
       "    </tr>\n",
       "  </tbody>\n",
       "</table>\n",
       "<p>5000 rows × 8 columns</p>\n",
       "</div>"
      ],
      "text/plain": [
       "       Release Year                         Title Origin/Ethnicity   \n",
       "17376          2017                Phantom Thread         American  \\\n",
       "17243          2017        Everything, Everything         American   \n",
       "17241          2017               Alien: Covenant         American   \n",
       "17240          2017                Paris Can Wait         American   \n",
       "17239          2017                      The Wall         American   \n",
       "...             ...                           ...              ...   \n",
       "12478          1995                     Jury Duty         American   \n",
       "12506          1995                 Mortal Kombat         American   \n",
       "12480          1995  A Kid in King Arthur's Court         American   \n",
       "12508          1995            Mr. Holland's Opus         American   \n",
       "12522          1995          Operation Dumbo Drop         American   \n",
       "\n",
       "                   Director   \n",
       "17376  Paul Thomas Anderson  \\\n",
       "17243         Stella Meghie   \n",
       "17241          Ridley Scott   \n",
       "17240       Eleanor Coppola   \n",
       "17239            Doug Liman   \n",
       "...                     ...   \n",
       "12478      John Fortenberry   \n",
       "12506   Paul W. S. Anderson   \n",
       "12480      Michael Gottlieb   \n",
       "12508         Stephen Herek   \n",
       "12522          Simon Wincer   \n",
       "\n",
       "                                                    Cast            Genre   \n",
       "17376  Paul Thomas Anderson (director/screenplay); Da...            drama  \\\n",
       "17243  Stella Meghie (director); J. Mills Goodloe (sc...   romance, drama   \n",
       "17241  Ridley Scott (director); Michael Green, Jack P...   sci-fi, horror   \n",
       "17240  Eleanor Coppola (director/screenplay); Diane L...  comedy, romance   \n",
       "17239  Doug Liman (director); Dwain Worrell (screenpl...  drama, thriller   \n",
       "...                                                  ...              ...   \n",
       "12478               Pauly Shore, Tia Carrere, Abe Vigoda           comedy   \n",
       "12506  Robin Shou, Linden Ashby, Bridgette Wilson, Ch...          fantasy   \n",
       "12480                  Thomas Ian Nicholas, Joss Ackland           comedy   \n",
       "12508  Richard Dreyfuss, Glenne Headly, Jay Thomas, O...            drama   \n",
       "12522              Ray Liotta, Danny Glover, Denis Leary           family   \n",
       "\n",
       "                                               Wiki Page   \n",
       "17376       https://en.wikipedia.org/wiki/Phantom_Thread  \\\n",
       "17243  https://en.wikipedia.org/wiki/Everything,_Ever...   \n",
       "17241      https://en.wikipedia.org/wiki/Alien:_Covenant   \n",
       "17240       https://en.wikipedia.org/wiki/Paris_Can_Wait   \n",
       "17239  https://en.wikipedia.org/wiki/The_Wall_(2017_f...   \n",
       "...                                                  ...   \n",
       "12478     https://en.wikipedia.org/wiki/Jury_Duty_(film)   \n",
       "12506  https://en.wikipedia.org/wiki/Mortal_Kombat_(f...   \n",
       "12480  https://en.wikipedia.org/wiki/A_Kid_in_King_Ar...   \n",
       "12508  https://en.wikipedia.org/wiki/Mr._Holland%27s_...   \n",
       "12522  https://en.wikipedia.org/wiki/Operation_Dumbo_...   \n",
       "\n",
       "                                                    Plot  \n",
       "17376  In 1954 London, renowned fashion designer Reyn...  \n",
       "17243  Eighteen-year-old Maddy suffers from SCID, an ...  \n",
       "17241  In a prologue, business magnate Peter Weyland ...  \n",
       "17240  Anne (Diane Lane) is in Cannes with her husban...  \n",
       "17239  During the Iraq War, U.S. Army Staff Sergeant ...  \n",
       "...                                                  ...  \n",
       "12478  Tommy Collins is an unemployed erotic dancer l...  \n",
       "12506  Mortal Kombat is a fighting tournament between...  \n",
       "12480  Calvin Fuller is a nerdy young boy living in t...  \n",
       "12508  In Portland, Oregon in 1965, Glenn Holland is ...  \n",
       "12522  During the Vietnam War in 1968, Captain Sam Ca...  \n",
       "\n",
       "[5000 rows x 8 columns]"
      ]
     },
     "execution_count": 16,
     "metadata": {},
     "output_type": "execute_result"
    }
   ],
   "source": [
    "movies"
   ]
  },
  {
   "cell_type": "code",
   "execution_count": null,
   "id": "78d8f70a",
   "metadata": {},
   "outputs": [],
   "source": []
  }
 ],
 "metadata": {
  "kernelspec": {
   "display_name": "Python 3 (ipykernel)",
   "language": "python",
   "name": "python3"
  },
  "language_info": {
   "codemirror_mode": {
    "name": "ipython",
    "version": 3
   },
   "file_extension": ".py",
   "mimetype": "text/x-python",
   "name": "python",
   "nbconvert_exporter": "python",
   "pygments_lexer": "ipython3",
   "version": "3.10.2"
  }
 },
 "nbformat": 4,
 "nbformat_minor": 5
}
