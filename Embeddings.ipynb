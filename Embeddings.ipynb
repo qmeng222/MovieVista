{
 "cells": [
  {
   "cell_type": "code",
   "execution_count": 1,
   "id": "7a26be7e",
   "metadata": {},
   "outputs": [],
   "source": [
    "import openai\n",
    "from dotenv import dotenv_values\n",
    "config = dotenv_values(\".env\")\n",
    "openai.api_key = config[\"OPENAI_API_KEY\"]"
   ]
  },
  {
   "cell_type": "code",
   "execution_count": 2,
   "id": "212aeeb8",
   "metadata": {},
   "outputs": [],
   "source": [
    "import pandas as pd\n",
    "import numpy as np"
   ]
  },
  {
   "cell_type": "markdown",
   "id": "d5b3c4cf",
   "metadata": {},
   "source": [
    "## Load The Movie Data"
   ]
  },
  {
   "cell_type": "code",
   "execution_count": 3,
   "id": "699bb3ed",
   "metadata": {},
   "outputs": [],
   "source": [
    "dataset_path = \"./movie_plots.csv\"\n",
    "dataframe = pd.read_csv(dataset_path)"
   ]
  },
  {
   "cell_type": "code",
   "execution_count": 23,
   "id": "36401906",
   "metadata": {},
   "outputs": [],
   "source": [
    "# Narrow data set to 5000 recent American movies (to save money):\n",
    "movies = dataframe[dataframe[\"Origin/Ethnicity\"] == \"American\"].sort_values(\"Release Year\", ascending=False).head(5000)"
   ]
  },
  {
   "cell_type": "code",
   "execution_count": 26,
   "id": "4d2fd6f0",
   "metadata": {},
   "outputs": [
    {
     "data": {
      "text/html": [
       "<div>\n",
       "<style scoped>\n",
       "    .dataframe tbody tr th:only-of-type {\n",
       "        vertical-align: middle;\n",
       "    }\n",
       "\n",
       "    .dataframe tbody tr th {\n",
       "        vertical-align: top;\n",
       "    }\n",
       "\n",
       "    .dataframe thead th {\n",
       "        text-align: right;\n",
       "    }\n",
       "</style>\n",
       "<table border=\"1\" class=\"dataframe\">\n",
       "  <thead>\n",
       "    <tr style=\"text-align: right;\">\n",
       "      <th></th>\n",
       "      <th>Release Year</th>\n",
       "      <th>Title</th>\n",
       "      <th>Origin/Ethnicity</th>\n",
       "      <th>Director</th>\n",
       "      <th>Cast</th>\n",
       "      <th>Genre</th>\n",
       "      <th>Wiki Page</th>\n",
       "      <th>Plot</th>\n",
       "    </tr>\n",
       "  </thead>\n",
       "  <tbody>\n",
       "    <tr>\n",
       "      <th>17376</th>\n",
       "      <td>2017</td>\n",
       "      <td>Phantom Thread</td>\n",
       "      <td>American</td>\n",
       "      <td>Paul Thomas Anderson</td>\n",
       "      <td>Paul Thomas Anderson (director/screenplay); Da...</td>\n",
       "      <td>drama</td>\n",
       "      <td>https://en.wikipedia.org/wiki/Phantom_Thread</td>\n",
       "      <td>In 1954 London, renowned fashion designer Reyn...</td>\n",
       "    </tr>\n",
       "    <tr>\n",
       "      <th>17243</th>\n",
       "      <td>2017</td>\n",
       "      <td>Everything, Everything</td>\n",
       "      <td>American</td>\n",
       "      <td>Stella Meghie</td>\n",
       "      <td>Stella Meghie (director); J. Mills Goodloe (sc...</td>\n",
       "      <td>romance, drama</td>\n",
       "      <td>https://en.wikipedia.org/wiki/Everything,_Ever...</td>\n",
       "      <td>Eighteen-year-old Maddy suffers from SCID, an ...</td>\n",
       "    </tr>\n",
       "    <tr>\n",
       "      <th>17241</th>\n",
       "      <td>2017</td>\n",
       "      <td>Alien: Covenant</td>\n",
       "      <td>American</td>\n",
       "      <td>Ridley Scott</td>\n",
       "      <td>Ridley Scott (director); Michael Green, Jack P...</td>\n",
       "      <td>sci-fi, horror</td>\n",
       "      <td>https://en.wikipedia.org/wiki/Alien:_Covenant</td>\n",
       "      <td>In a prologue, business magnate Peter Weyland ...</td>\n",
       "    </tr>\n",
       "    <tr>\n",
       "      <th>17240</th>\n",
       "      <td>2017</td>\n",
       "      <td>Paris Can Wait</td>\n",
       "      <td>American</td>\n",
       "      <td>Eleanor Coppola</td>\n",
       "      <td>Eleanor Coppola (director/screenplay); Diane L...</td>\n",
       "      <td>comedy, romance</td>\n",
       "      <td>https://en.wikipedia.org/wiki/Paris_Can_Wait</td>\n",
       "      <td>Anne (Diane Lane) is in Cannes with her husban...</td>\n",
       "    </tr>\n",
       "    <tr>\n",
       "      <th>17239</th>\n",
       "      <td>2017</td>\n",
       "      <td>The Wall</td>\n",
       "      <td>American</td>\n",
       "      <td>Doug Liman</td>\n",
       "      <td>Doug Liman (director); Dwain Worrell (screenpl...</td>\n",
       "      <td>drama, thriller</td>\n",
       "      <td>https://en.wikipedia.org/wiki/The_Wall_(2017_f...</td>\n",
       "      <td>During the Iraq War, U.S. Army Staff Sergeant ...</td>\n",
       "    </tr>\n",
       "    <tr>\n",
       "      <th>...</th>\n",
       "      <td>...</td>\n",
       "      <td>...</td>\n",
       "      <td>...</td>\n",
       "      <td>...</td>\n",
       "      <td>...</td>\n",
       "      <td>...</td>\n",
       "      <td>...</td>\n",
       "      <td>...</td>\n",
       "    </tr>\n",
       "    <tr>\n",
       "      <th>12478</th>\n",
       "      <td>1995</td>\n",
       "      <td>Jury Duty</td>\n",
       "      <td>American</td>\n",
       "      <td>John Fortenberry</td>\n",
       "      <td>Pauly Shore, Tia Carrere, Abe Vigoda</td>\n",
       "      <td>comedy</td>\n",
       "      <td>https://en.wikipedia.org/wiki/Jury_Duty_(film)</td>\n",
       "      <td>Tommy Collins is an unemployed erotic dancer l...</td>\n",
       "    </tr>\n",
       "    <tr>\n",
       "      <th>12506</th>\n",
       "      <td>1995</td>\n",
       "      <td>Mortal Kombat</td>\n",
       "      <td>American</td>\n",
       "      <td>Paul W. S. Anderson</td>\n",
       "      <td>Robin Shou, Linden Ashby, Bridgette Wilson, Ch...</td>\n",
       "      <td>fantasy</td>\n",
       "      <td>https://en.wikipedia.org/wiki/Mortal_Kombat_(f...</td>\n",
       "      <td>Mortal Kombat is a fighting tournament between...</td>\n",
       "    </tr>\n",
       "    <tr>\n",
       "      <th>12480</th>\n",
       "      <td>1995</td>\n",
       "      <td>A Kid in King Arthur's Court</td>\n",
       "      <td>American</td>\n",
       "      <td>Michael Gottlieb</td>\n",
       "      <td>Thomas Ian Nicholas, Joss Ackland</td>\n",
       "      <td>comedy</td>\n",
       "      <td>https://en.wikipedia.org/wiki/A_Kid_in_King_Ar...</td>\n",
       "      <td>Calvin Fuller is a nerdy young boy living in t...</td>\n",
       "    </tr>\n",
       "    <tr>\n",
       "      <th>12508</th>\n",
       "      <td>1995</td>\n",
       "      <td>Mr. Holland's Opus</td>\n",
       "      <td>American</td>\n",
       "      <td>Stephen Herek</td>\n",
       "      <td>Richard Dreyfuss, Glenne Headly, Jay Thomas, O...</td>\n",
       "      <td>drama</td>\n",
       "      <td>https://en.wikipedia.org/wiki/Mr._Holland%27s_...</td>\n",
       "      <td>In Portland, Oregon in 1965, Glenn Holland is ...</td>\n",
       "    </tr>\n",
       "    <tr>\n",
       "      <th>12522</th>\n",
       "      <td>1995</td>\n",
       "      <td>Operation Dumbo Drop</td>\n",
       "      <td>American</td>\n",
       "      <td>Simon Wincer</td>\n",
       "      <td>Ray Liotta, Danny Glover, Denis Leary</td>\n",
       "      <td>family</td>\n",
       "      <td>https://en.wikipedia.org/wiki/Operation_Dumbo_...</td>\n",
       "      <td>During the Vietnam War in 1968, Captain Sam Ca...</td>\n",
       "    </tr>\n",
       "  </tbody>\n",
       "</table>\n",
       "<p>5000 rows × 8 columns</p>\n",
       "</div>"
      ],
      "text/plain": [
       "       Release Year                         Title Origin/Ethnicity   \n",
       "17376          2017                Phantom Thread         American  \\\n",
       "17243          2017        Everything, Everything         American   \n",
       "17241          2017               Alien: Covenant         American   \n",
       "17240          2017                Paris Can Wait         American   \n",
       "17239          2017                      The Wall         American   \n",
       "...             ...                           ...              ...   \n",
       "12478          1995                     Jury Duty         American   \n",
       "12506          1995                 Mortal Kombat         American   \n",
       "12480          1995  A Kid in King Arthur's Court         American   \n",
       "12508          1995            Mr. Holland's Opus         American   \n",
       "12522          1995          Operation Dumbo Drop         American   \n",
       "\n",
       "                   Director   \n",
       "17376  Paul Thomas Anderson  \\\n",
       "17243         Stella Meghie   \n",
       "17241          Ridley Scott   \n",
       "17240       Eleanor Coppola   \n",
       "17239            Doug Liman   \n",
       "...                     ...   \n",
       "12478      John Fortenberry   \n",
       "12506   Paul W. S. Anderson   \n",
       "12480      Michael Gottlieb   \n",
       "12508         Stephen Herek   \n",
       "12522          Simon Wincer   \n",
       "\n",
       "                                                    Cast            Genre   \n",
       "17376  Paul Thomas Anderson (director/screenplay); Da...            drama  \\\n",
       "17243  Stella Meghie (director); J. Mills Goodloe (sc...   romance, drama   \n",
       "17241  Ridley Scott (director); Michael Green, Jack P...   sci-fi, horror   \n",
       "17240  Eleanor Coppola (director/screenplay); Diane L...  comedy, romance   \n",
       "17239  Doug Liman (director); Dwain Worrell (screenpl...  drama, thriller   \n",
       "...                                                  ...              ...   \n",
       "12478               Pauly Shore, Tia Carrere, Abe Vigoda           comedy   \n",
       "12506  Robin Shou, Linden Ashby, Bridgette Wilson, Ch...          fantasy   \n",
       "12480                  Thomas Ian Nicholas, Joss Ackland           comedy   \n",
       "12508  Richard Dreyfuss, Glenne Headly, Jay Thomas, O...            drama   \n",
       "12522              Ray Liotta, Danny Glover, Denis Leary           family   \n",
       "\n",
       "                                               Wiki Page   \n",
       "17376       https://en.wikipedia.org/wiki/Phantom_Thread  \\\n",
       "17243  https://en.wikipedia.org/wiki/Everything,_Ever...   \n",
       "17241      https://en.wikipedia.org/wiki/Alien:_Covenant   \n",
       "17240       https://en.wikipedia.org/wiki/Paris_Can_Wait   \n",
       "17239  https://en.wikipedia.org/wiki/The_Wall_(2017_f...   \n",
       "...                                                  ...   \n",
       "12478     https://en.wikipedia.org/wiki/Jury_Duty_(film)   \n",
       "12506  https://en.wikipedia.org/wiki/Mortal_Kombat_(f...   \n",
       "12480  https://en.wikipedia.org/wiki/A_Kid_in_King_Ar...   \n",
       "12508  https://en.wikipedia.org/wiki/Mr._Holland%27s_...   \n",
       "12522  https://en.wikipedia.org/wiki/Operation_Dumbo_...   \n",
       "\n",
       "                                                    Plot  \n",
       "17376  In 1954 London, renowned fashion designer Reyn...  \n",
       "17243  Eighteen-year-old Maddy suffers from SCID, an ...  \n",
       "17241  In a prologue, business magnate Peter Weyland ...  \n",
       "17240  Anne (Diane Lane) is in Cannes with her husban...  \n",
       "17239  During the Iraq War, U.S. Army Staff Sergeant ...  \n",
       "...                                                  ...  \n",
       "12478  Tommy Collins is an unemployed erotic dancer l...  \n",
       "12506  Mortal Kombat is a fighting tournament between...  \n",
       "12480  Calvin Fuller is a nerdy young boy living in t...  \n",
       "12508  In Portland, Oregon in 1965, Glenn Holland is ...  \n",
       "12522  During the Vietnam War in 1968, Captain Sam Ca...  \n",
       "\n",
       "[5000 rows x 8 columns]"
      ]
     },
     "execution_count": 26,
     "metadata": {},
     "output_type": "execute_result"
    }
   ],
   "source": [
    "movies"
   ]
  },
  {
   "cell_type": "code",
   "execution_count": 5,
   "id": "d2c20b5e",
   "metadata": {},
   "outputs": [],
   "source": [
    "# Extract the movie plots into a list:\n",
    "movie_plots = movies[\"Plot\"].values  # [\"plot1\", \"plot2\", ...] "
   ]
  },
  {
   "cell_type": "markdown",
   "id": "774da166",
   "metadata": {},
   "source": [
    "## Generating The Embeddings"
   ]
  },
  {
   "cell_type": "code",
   "execution_count": 6,
   "id": "86402c88",
   "metadata": {},
   "outputs": [],
   "source": [
    "from tenacity import retry, wait_random_exponential, stop_after_attempt"
   ]
  },
  {
   "cell_type": "code",
   "execution_count": 7,
   "id": "1ca63491",
   "metadata": {},
   "outputs": [],
   "source": [
    "@retry(wait=wait_random_exponential(min=1, max=20), stop=stop_after_attempt(6))\n",
    "def get_embedding(text, model=\"text-embedding-ada-002\"):\n",
    "\n",
    "    # replace newlines, which can negatively affect performance:\n",
    "    text = text.replace(\"\\n\", \" \")\n",
    "\n",
    "    return openai.Embedding.create(input=text, model=model)[\"data\"][0][\"embedding\"]"
   ]
  },
  {
   "cell_type": "markdown",
   "id": "3615f394",
   "metadata": {},
   "source": [
    "## Estimate The Cost"
   ]
  },
  {
   "cell_type": "code",
   "execution_count": 8,
   "id": "7ba798d7",
   "metadata": {},
   "outputs": [],
   "source": [
    "import tiktoken"
   ]
  },
  {
   "cell_type": "code",
   "execution_count": 9,
   "id": "7338d753",
   "metadata": {},
   "outputs": [],
   "source": [
    "# Use the tiktoken library to encode a text using the \"text-embedding-ada-002\" model\n",
    "enc = tiktoken.encoding_for_model(\"text-embedding-ada-002\")"
   ]
  },
  {
   "cell_type": "code",
   "execution_count": 10,
   "id": "f4328459",
   "metadata": {},
   "outputs": [],
   "source": [
    "# calculate total tokens to estimate cost\n",
    "total_tokens = sum([len(enc.encode(plot)) for plot in movie_plots]) # sum([697, 757, 361, ...])"
   ]
  },
  {
   "cell_type": "code",
   "execution_count": 11,
   "id": "a71ca9e1",
   "metadata": {},
   "outputs": [
    {
     "name": "stdout",
     "output_type": "stream",
     "text": [
      "Estimated cost is $1.45\n"
     ]
    }
   ],
   "source": [
    "total_tokens\n",
    "cost = (.0004 / 1000) * total_tokens\n",
    "print(f\"Estimated cost is ${cost:.2f}\")"
   ]
  },
  {
   "cell_type": "markdown",
   "id": "92f1f7ed",
   "metadata": {},
   "source": [
    "## Cache To Avoid Re-computing"
   ]
  },
  {
   "cell_type": "code",
   "execution_count": 12,
   "id": "15f336e3",
   "metadata": {},
   "outputs": [],
   "source": [
    "import pickle "
   ]
  },
  {
   "cell_type": "code",
   "execution_count": 13,
   "id": "ec7d8e9b",
   "metadata": {},
   "outputs": [],
   "source": [
    "# establish a cache of embeddings to avoid recomputing\n",
    "# cache is a dict of tuples (text, model) -> embedding, saved as a pickle file\n",
    "\n",
    "# set path to embedding cache\n",
    "embedding_cache_path = \"movie_embeddings.pkl\"\n",
    "\n",
    "# load the cache if it exists, and save a copy to disk\n",
    "try:\n",
    "    embedding_cache = pd.read_pickle(embedding_cache_path)\n",
    "except FileNotFoundError:\n",
    "    embedding_cache = {}\n",
    "with open(embedding_cache_path, \"wb\") as embedding_cache_file:\n",
    "    pickle.dump(embedding_cache, embedding_cache_file)\n",
    "\n",
    "# define a function to retrieve embeddings from the cache if present, or otherwise request via the API\n",
    "def embedding_from_string(\n",
    "    string,\n",
    "    model=\"text-embedding-ada-002\",\n",
    "    embedding_cache=embedding_cache\n",
    "):\n",
    "    \"\"\"Return embedding of given string, using a cache to avoid recomputing.\"\"\"\n",
    "    if (string, model) not in embedding_cache.keys():\n",
    "        embedding_cache[(string, model)] = get_embedding(string, model)\n",
    "        print(f\"GOT EMBEDDING FROM OPENAI FOR '{string[:20]}'\")\n",
    "        with open(embedding_cache_path, \"wb\") as embedding_cache_file:\n",
    "            pickle.dump(embedding_cache, embedding_cache_file)\n",
    "    return embedding_cache[(string, model)]"
   ]
  },
  {
   "cell_type": "markdown",
   "id": "74d848ca",
   "metadata": {},
   "source": [
    "## Visualize Embeddings With Atlas"
   ]
  },
  {
   "cell_type": "code",
   "execution_count": 14,
   "id": "41347fb9",
   "metadata": {},
   "outputs": [],
   "source": [
    "from nomic import atlas"
   ]
  },
  {
   "cell_type": "code",
   "execution_count": 15,
   "id": "d7c010c2",
   "metadata": {},
   "outputs": [],
   "source": [
    "plot_embeddings = [embedding_from_string(plot, model=\"text-embedding-ada-002\") for plot in movie_plots]\n",
    "# len(plot_embeddings) # 5000 \n",
    "# len(plot_embeddings[0]) # 1536"
   ]
  },
  {
   "cell_type": "code",
   "execution_count": 27,
   "id": "123c0cf9",
   "metadata": {},
   "outputs": [],
   "source": [
    "data = movies[[\"Title\", \"Genre\"]].to_dict(\"records\")  # list of dicts: [{'Title': 'Phantom Thread', 'Genre': 'drama'}, ...]\n",
    "# print(data)"
   ]
  },
  {
   "cell_type": "code",
   "execution_count": 17,
   "id": "45e22886",
   "metadata": {},
   "outputs": [
    {
     "name": "stderr",
     "output_type": "stream",
     "text": [
      "\u001b[32m2023-06-02 20:53:05.771\u001b[0m | \u001b[1mINFO    \u001b[0m | \u001b[36mnomic.project\u001b[0m:\u001b[36m_create_project\u001b[0m:\u001b[36m965\u001b[0m - \u001b[1mCreating project `yummy-patron` in organization `qmeng222`\u001b[0m\n",
      "\u001b[32m2023-06-02 20:53:07.216\u001b[0m | \u001b[1mINFO    \u001b[0m | \u001b[36mnomic.atlas\u001b[0m:\u001b[36mmap_embeddings\u001b[0m:\u001b[36m100\u001b[0m - \u001b[1mUploading embeddings to Atlas.\u001b[0m\n",
      "4it [00:12,  3.02s/it]                             \n",
      "\u001b[32m2023-06-02 20:53:19.452\u001b[0m | \u001b[1mINFO    \u001b[0m | \u001b[36mnomic.project\u001b[0m:\u001b[36m_add_data\u001b[0m:\u001b[36m1577\u001b[0m - \u001b[1mUpload succeeded.\u001b[0m\n",
      "\u001b[32m2023-06-02 20:53:19.456\u001b[0m | \u001b[1mINFO    \u001b[0m | \u001b[36mnomic.atlas\u001b[0m:\u001b[36mmap_embeddings\u001b[0m:\u001b[36m119\u001b[0m - \u001b[1mEmbedding upload succeeded.\u001b[0m\n",
      "\u001b[32m2023-06-02 20:53:20.220\u001b[0m | \u001b[1mINFO    \u001b[0m | \u001b[36mnomic.project\u001b[0m:\u001b[36mcreate_index\u001b[0m:\u001b[36m1282\u001b[0m - \u001b[1mCreated map `yummy-patron` in project `yummy-patron`: https://atlas.nomic.ai/map/791f8e14-aaea-42c8-b7b8-d7e8b443ac62/ababbffd-4c84-499e-b7a7-87f05df03366\u001b[0m\n",
      "\u001b[32m2023-06-02 20:53:20.221\u001b[0m | \u001b[1mINFO    \u001b[0m | \u001b[36mnomic.atlas\u001b[0m:\u001b[36mmap_embeddings\u001b[0m:\u001b[36m132\u001b[0m - \u001b[1myummy-patron: https://atlas.nomic.ai/map/791f8e14-aaea-42c8-b7b8-d7e8b443ac62/ababbffd-4c84-499e-b7a7-87f05df03366\u001b[0m\n"
     ]
    }
   ],
   "source": [
    "project = atlas.map_embeddings(\n",
    "    embeddings=np.array(plot_embeddings),\n",
    "    data=data\n",
    ")"
   ]
  },
  {
   "cell_type": "markdown",
   "id": "193a21e7",
   "metadata": {},
   "source": [
    "## Recommending Movies By Plot\n",
    "\n",
    "1. enter a movie title\n",
    "2. take the movie title, and find the corresponding plot\n",
    "3. turn that plot into an embedding\n",
    "4. get distances between the query embedding and all other embeddings\n",
    "5. get indices of the nearest neighbors using the K Nearest Neighbor (KNN) algorithm\n",
    "6. take the matching movie plots, and get their corresponding titles "
   ]
  },
  {
   "cell_type": "code",
   "execution_count": 18,
   "id": "92989001",
   "metadata": {},
   "outputs": [],
   "source": [
    "from openai.embeddings_utils import distances_from_embeddings, indices_of_nearest_neighbors_from_distances"
   ]
  },
  {
   "cell_type": "code",
   "execution_count": 19,
   "id": "78d8f70a",
   "metadata": {},
   "outputs": [],
   "source": [
    "def print_recommendations_from_strings(\n",
    "    strings, # movie_plots\n",
    "    index_of_source_string,\n",
    "    k_nearest_neighbors=3,\n",
    "    model=\"text-embedding-ada-002\"\n",
    "):\n",
    "    # Get all of the embeddings\n",
    "    embeddings = [embedding_from_string(string) for string in strings]\n",
    "    # get embedding for the specific query string, for example, the 7th embedding (query embedding)\n",
    "    query_embedding = embeddings[index_of_source_string]\n",
    "    # get distances between the query embedding and all other embeddings\n",
    "    distances = distances_from_embeddings(query_embedding, embeddings)\n",
    "#     print(distances)  # [0, 0.2215704663073892, 0.25112365731907915, ...] with the 1st movie\n",
    "    # get indices of the nearest neighbors\n",
    "    indices_of_nearest_neighbors = indices_of_nearest_neighbors_from_distances(distances)\n",
    "#     print(indices_of_nearest_neighbors)  # [   0 1535 3418 ... 1784 2373 1057] with the 1st movie\n",
    "    \n",
    "    query_string = strings[index_of_source_string]\n",
    "    match_count = 0\n",
    "    for i in indices_of_nearest_neighbors:\n",
    "        # skip the query index:\n",
    "        if query_string == strings[i]:\n",
    "            continue \n",
    "        # limit the number of recommendations: \n",
    "        if match_count >= k_nearest_neighbors:\n",
    "            break\n",
    "        match_count += 1\n",
    "        # print out the recommendations: \n",
    "        print(f\"🎉 Found {match_count} closest match: \")\n",
    "        print(f\"Distance to the query embedding: {distances[i]} \")\n",
    "        print(strings[i])"
   ]
  },
  {
   "cell_type": "code",
   "execution_count": 28,
   "id": "127c10bf",
   "metadata": {},
   "outputs": [
    {
     "name": "stdout",
     "output_type": "stream",
     "text": [
      "🎉 Found 1 closest match: \n",
      "Distance to the query embedding: 0.1543541303023297 \n",
      "Alfie (Anthony Hopkins) and Helena (Gemma Jones) divorce. Helena begins seeing a fortune teller, Cristal (Pauline Collins), for spiritual advice. Their daughter Sally (Naomi Watts) has a troubled marriage with author Roy (Josh Brolin), who once wrote a successful book and is now anxiously waiting for response from his publisher about the manuscript of his newest one. Helena helps pay their rent.\r\n",
      "Alfie marries a prostitute, Charmaine (Lucy Punch). Roy falls for Dia (Freida Pinto), a musicologist he sees through a window near his and Sally’s flat, who is engaged to another man. Sally considers having an affair with Greg (Antonio Banderas), her new boss at an art gallery. But Greg confesses he is having trouble at home and eventually it turns out he is having an affair with Iris (Anna Friel), Sally's protégée. Helena begins a friendship with Jonathan (Roger Ashton-Griffiths), the proprietor of an occult bookshop, which develops into romance.\r\n",
      "Roy's book is rejected. He hears that a friend, who is also a writer, has died in an accident. Knowing that his friend had just finished a manuscript that he had not shown to anyone, Roy steals it and claims it is as his work. It is well received. He convinces Dia to break off her engagement, and moves in with her.\r\n",
      "Alfie gets into a fight with Charmaine over her high expenses. He asks Helena to make a new start with him, but she refuses. Charmaine has sex with another man and gets pregnant. Alfie wants a DNA test to find out whether he is the father, but Charmaine argues that his paternity is irrelevant.\r\n",
      "Sally quits her job and asks Helena for a loan she promised, for setting up her own art gallery, but Helena refuses because according to Cristal it is astrologically a bad time. Sally is furious. Roy is informed that there was a mix-up of the people killed in the accident and is shocked to hear that the friend whose manuscript he stole is actually in coma and recovering.\r\n",
      "In the end, all are dissatisfied with their choices, except for Helena. She has acquired from Cristal a belief in reincarnation and sees her life now as only one episode in her series of lives. Jonathan shares her beliefs, and they receive his deceased wife's blessing for the new relationship via seance.\n",
      "🎉 Found 2 closest match: \n",
      "Distance to the query embedding: 0.15903752712753338 \n",
      "In November 1932, the wealthy industrialist Sir William McCordle (Michael Gambon), his wife, Lady Sylvia McCordle (Kristin Scott Thomas), and their daughter, Isobel (Camilla Rutherford), are to have a weekend shooting party at their country estate, Gosford Park. The guests are predominately their relations. When they arrive they enter through the front door and make small talk at tea, while their help are directed by the head housekeeper, Mrs Wilson (Helen Mirren), to their room assignments. Mrs Wilson notices the valet Robert Parks (Clive Owen), who was raised in an orphanage. Parks takes an interest in lady's maid Mary MacEachran (Kelly Macdonald). The head housemaid, Elsie (Emily Watson), guides Mary through the gathering.\r\n",
      "After supper, a silver carving knife is found to have gone missing. Lady Sylvia has an assignation with valet Henry Denton (Ryan Phillippe).\r\n",
      "The next morning, the men go on a pheasant shoot, and a stray shot hits Sir William's ear. The ladies join the men for a shooting lunch where Commander Anthony Meredith (Tom Hollander) pleads with Sir William not to back out of a business scheme.\r\n",
      "Before dinner, Constance, Countess of Trentham (Maggie Smith), is told by Lady Sylvia, while dressing for dinner that Sir William may stop her allowance. At dinner, Lady Sylvia states that Sir William was a First World War profiteer. Elsie blurts out her support for Sir William, referring to him as 'Bill'; the room goes silent and Elsie rushes from the room. Sir William abruptly leaves the dining room for the library. Mrs Wilson brings him coffee; he wants whisky; he is irritated when he drinks the whisky.\r\n",
      "In the drawing room, actor Ivor Novello (Jeremy Northam) plays the piano to lighten the atmosphere. Sir William sits in the library slumped in his chair and someone wearing the trousers of a valet or butler stabs him. Louisa, Lady Stockbridge (Geraldine Somerville) goes to the library; her screams alarm the house.\r\n",
      "Bumbling Inspector Thompson (Stephen Fry) and competent Constable Dexter (Ron Webster) arrive to investigate the murder. No-one is permitted to leave the house. Dexter calls attention to the lack of blood from the stab wound. Denton, the valet of American film producer Morris Weissman (Bob Balaban), confesses that he is in fact an actor researching a role for an upcoming film. Later, he again visits Lady Sylvia.\r\n",
      "The following morning, staff gossip that Sir William was not only stabbed but also poisoned. The head cook, Mrs. Croft (Eileen Atkins) shares with the kitchen staff that Sir William was known for seducing the female workers in his factories. If a woman became pregnant, Sir William offered two choices: keep the baby and lose your job, or give the baby up and keep your job. Those who gave up their babies were told that the adoptions were being arranged with good families. In reality, Sir William paid orphanages to take the babies.\r\n",
      "Later that night, Inspector Thompson releases the guests. He never interviews the staff.\r\n",
      "Parks tells Mary that Sir William was his father, that a son can hate his father, and that he did not poison Sir William. Mary tells Parks that then he did not kill Sir William because he was already dead and anyone should know if they stab a dead body. Parks says that he does not know and does not care if he killed Sir William.\r\n",
      "The following morning, Lady Trentham and Lady Sylvia, in the presence of Mary, are talking about the sisters Mrs Croft and Mrs Wilson. Lady Sylvia says that Mrs Wilson was earlier known by the name Parks, Parker or Parkinson. Mrs Wilson tells Mary that she will never tell Parks that they are related: the mark of a good servant is anticipation, that it is not a crime to stab a dead man, and the important thing is that authorities can never touch Parks.\r\n",
      "In private, Mrs Wilson grieves the loss of never knowing her son, and Mrs Croft acknowledges that what matters is that he is alive.\r\n",
      "The last guests, Lady Trentham and the Stockbridges, depart.\n",
      "🎉 Found 3 closest match: \n",
      "Distance to the query embedding: 0.1621739061176568 \n",
      "Rose Morgan (Streisand), a shy, plain, middle-aged English literature professor at Columbia University, shares a home with her vain, overbearing mother, Hannah (Bacall). When her attractive sister, Claire (Rogers), starts making preparations for her third wedding to Alex (Brosnan), who used to date her, she begins to feel her loveless life is empty.\r\n",
      "Gregory Larkin (Bridges), a Columbia Mathematics teacher, feels sex complicates matters between men and women, since he seems to lose all his rational perspective as soon as he is aroused. After his last girlfriend dumps him after a last one night stand before she gets married, he decides to look for a relationship based on the intellectual rather than the physical, based on a suggestion by a sex-phone service, and places an ad in a newspaper.\r\n",
      "Claire reads the ad and answers on behalf of Rose. Gregory is intrigued when Claire tells him that Rose teaches English literature at Columbia, so he creeps in to her lecture about chaste love in literature, missing entirely the point she was making. After a series of mishaps, they begin dating and he is impressed by her wit and knowledge and seems to be fascinated by her quirks and mannerisms, which usually drive people crazy. She is also fascinated by the dashing math professor and even helps him improve his teaching techniques. He proposes marriage, on condition that it will be largely platonic, with occasional sex only if she needs it. The prospect of spending the rest of her life as a lonely spinster living with Hannah seems far worse than a marriage on those conditions, so she accepts.\r\n",
      "Rose's attraction to Gregory grows, and one night she attempts to seduce him, much to his annoyance. He had hoped that by then she had given up on the idea of sex, though he admits he initially raised its possibility. He abruptly breaks off their attempt at physical intimacy when he finds himself becoming truly aroused and fears that it will change the safe comfortable feelings he has towards her.\r\n",
      "When Gregory departs on a lengthy lecture tour, Rose embarks on a crash course in self-improvement: she diets, exercises, changes her hairstyle, learns to use makeup, and outfits herself in an updated wardrobe. When Gregory returns, he finds a very different woman waiting for him and is too startled to express his feelings. She admits that she made a mistake in accepting their passionless marriage, and leaves him. All the while, she realizes that everyone, including herself, is now behaving differently towards her altered self, though not always to her liking. Gregory and Rose realize their mutual love has been hindered, not by her appearance, but by his unusual theories on marriage and sex, and finally recognize their deep affection.\n"
     ]
    }
   ],
   "source": [
    "# call the above function:\n",
    "print_recommendations_from_strings(movie_plots, 0) "
   ]
  },
  {
   "cell_type": "code",
   "execution_count": null,
   "id": "08ff47c9",
   "metadata": {},
   "outputs": [],
   "source": []
  }
 ],
 "metadata": {
  "kernelspec": {
   "display_name": "Python 3 (ipykernel)",
   "language": "python",
   "name": "python3"
  },
  "language_info": {
   "codemirror_mode": {
    "name": "ipython",
    "version": 3
   },
   "file_extension": ".py",
   "mimetype": "text/x-python",
   "name": "python",
   "nbconvert_exporter": "python",
   "pygments_lexer": "ipython3",
   "version": "3.10.2"
  }
 },
 "nbformat": 4,
 "nbformat_minor": 5
}
